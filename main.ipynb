{
 "cells": [
  {
   "cell_type": "code",
   "execution_count": 1,
   "metadata": {},
   "outputs": [],
   "source": [
    "import numpy as np\n",
    "import matplotlib.pyplot as plt\n",
    "\n",
    "from glob import glob\n",
    "import os"
   ]
  },
  {
   "cell_type": "code",
   "execution_count": 3,
   "metadata": {},
   "outputs": [
    {
     "name": "stdout",
     "output_type": "stream",
     "text": [
      "There are 2025 style images in Van Gogh Paintings Dataset\n"
     ]
    }
   ],
   "source": [
    "main_path = \"./data\"\n",
    "img_paths = []\n",
    "for class_path in [os.path.join(main_path,class_name) for class_name in os.listdir(main_path)]:\n",
    "    \n",
    "    class_img_paths = glob(class_path+\"/*\")\n",
    "    for class_img_path in class_img_paths:\n",
    "        img_paths.append(class_img_path)\n",
    "\n",
    "print(\"There are {} style images in Van Gogh Paintings Dataset\".format(len(img_paths)))"
   ]
  },
  {
   "cell_type": "code",
   "execution_count": null,
   "metadata": {},
   "outputs": [],
   "source": []
  }
 ],
 "metadata": {
  "kernelspec": {
   "display_name": "Python 3",
   "language": "python",
   "name": "python3"
  },
  "language_info": {
   "codemirror_mode": {
    "name": "ipython",
    "version": 3
   },
   "file_extension": ".py",
   "mimetype": "text/x-python",
   "name": "python",
   "nbconvert_exporter": "python",
   "pygments_lexer": "ipython3",
   "version": "3.8.2"
  }
 },
 "nbformat": 4,
 "nbformat_minor": 4
}
